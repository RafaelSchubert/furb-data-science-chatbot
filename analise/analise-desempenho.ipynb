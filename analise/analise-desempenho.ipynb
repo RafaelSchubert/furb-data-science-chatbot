{
 "cells": [
  {
   "cell_type": "markdown",
   "id": "34a04a8a",
   "metadata": {},
   "source": [
    "# Assistente de Concessionária — Indicadores & Métricas\n",
    "\n",
    "Neste _notebook_, serão apresentados alguns indicadores e algumas métricas de desempenho do _chatbot_.\n",
    "\n",
    "## 1 - Preparar o conjunto de dados\n",
    "\n",
    "É necessário avaliar o conjunto de dados para prepará-lo para a análise; verificar se não há erros e/ou inconsistências.\n",
    "\n",
    "### 1.1 - Carregar conjunto de dados\n",
    "\n",
    "Começamos carregando o dito conjunto de dados."
   ]
  },
  {
   "cell_type": "code",
   "execution_count": 1,
   "id": "b1c633c9",
   "metadata": {},
   "outputs": [],
   "source": [
    "import pandas as pd"
   ]
  },
  {
   "cell_type": "code",
   "execution_count": 2,
   "id": "ccbbaf10",
   "metadata": {},
   "outputs": [
    {
     "name": "stdout",
     "output_type": "stream",
     "text": [
      "199 mensagens\n"
     ]
    }
   ],
   "source": [
    "def carregar_dataset() -> pd.DataFrame:\n",
    "    return pd.read_csv('mensagens.csv', sep=';', index_col=False)\n",
    "\n",
    "df_mensagens = carregar_dataset()\n",
    "\n",
    "print(f'{len(df_mensagens)} mensagens')"
   ]
  },
  {
   "cell_type": "code",
   "execution_count": 3,
   "id": "cf39f7d3",
   "metadata": {},
   "outputs": [
    {
     "data": {
      "text/html": [
       "<div>\n",
       "<style scoped>\n",
       "    .dataframe tbody tr th:only-of-type {\n",
       "        vertical-align: middle;\n",
       "    }\n",
       "\n",
       "    .dataframe tbody tr th {\n",
       "        vertical-align: top;\n",
       "    }\n",
       "\n",
       "    .dataframe thead th {\n",
       "        text-align: right;\n",
       "    }\n",
       "</style>\n",
       "<table border=\"1\" class=\"dataframe\">\n",
       "  <thead>\n",
       "    <tr style=\"text-align: right;\">\n",
       "      <th></th>\n",
       "      <th>mensagem</th>\n",
       "      <th>data</th>\n",
       "      <th>horario</th>\n",
       "      <th>intencoes</th>\n",
       "      <th>entidades</th>\n",
       "    </tr>\n",
       "  </thead>\n",
       "  <tbody>\n",
       "    <tr>\n",
       "      <th>0</th>\n",
       "      <td>dinheiro</td>\n",
       "      <td>2021-05-20</td>\n",
       "      <td>21:23</td>\n",
       "      <td>NaN</td>\n",
       "      <td>NaN</td>\n",
       "    </tr>\n",
       "    <tr>\n",
       "      <th>1</th>\n",
       "      <td>carro</td>\n",
       "      <td>2021-05-20</td>\n",
       "      <td>21:23</td>\n",
       "      <td>#recomendar-modelo</td>\n",
       "      <td>NaN</td>\n",
       "    </tr>\n",
       "    <tr>\n",
       "      <th>2</th>\n",
       "      <td>fusion</td>\n",
       "      <td>2021-05-20</td>\n",
       "      <td>21:24</td>\n",
       "      <td>NaN</td>\n",
       "      <td>@modelo-carro:Ford Fusion Hybrid 2021</td>\n",
       "    </tr>\n",
       "    <tr>\n",
       "      <th>3</th>\n",
       "      <td>ford</td>\n",
       "      <td>2021-05-20</td>\n",
       "      <td>21:24</td>\n",
       "      <td>NaN</td>\n",
       "      <td>NaN</td>\n",
       "    </tr>\n",
       "    <tr>\n",
       "      <th>4</th>\n",
       "      <td>aff</td>\n",
       "      <td>2021-05-20</td>\n",
       "      <td>21:24</td>\n",
       "      <td>NaN</td>\n",
       "      <td>NaN</td>\n",
       "    </tr>\n",
       "  </tbody>\n",
       "</table>\n",
       "</div>"
      ],
      "text/plain": [
       "   mensagem        data horario           intencoes  \\\n",
       "0  dinheiro  2021-05-20   21:23                 NaN   \n",
       "1     carro  2021-05-20   21:23  #recomendar-modelo   \n",
       "2    fusion  2021-05-20   21:24                 NaN   \n",
       "3      ford  2021-05-20   21:24                 NaN   \n",
       "4       aff  2021-05-20   21:24                 NaN   \n",
       "\n",
       "                               entidades  \n",
       "0                                    NaN  \n",
       "1                                    NaN  \n",
       "2  @modelo-carro:Ford Fusion Hybrid 2021  \n",
       "3                                    NaN  \n",
       "4                                    NaN  "
      ]
     },
     "execution_count": 3,
     "metadata": {},
     "output_type": "execute_result"
    }
   ],
   "source": [
    "df_mensagens.head()"
   ]
  },
  {
   "cell_type": "markdown",
   "id": "48a610d7",
   "metadata": {},
   "source": [
    "### 1.2 - Checar integridade dos campos de texto\n",
    "\n",
    "Checar se algum dos campos de texto possui um ou mais elementos vazios."
   ]
  },
  {
   "cell_type": "code",
   "execution_count": 4,
   "id": "e755f786",
   "metadata": {},
   "outputs": [
    {
     "name": "stdout",
     "output_type": "stream",
     "text": [
      "mensagem: False\n",
      "data: False\n",
      "horario: False\n"
     ]
    }
   ],
   "source": [
    "def checar_serie_possui_str_vazia(serie: pd.Series) -> bool:\n",
    "    return serie.apply(lambda x: not x).any()\n",
    "\n",
    "colunas_texto = ['mensagem', 'data', 'horario']\n",
    "\n",
    "for col in colunas_texto:\n",
    "    print(f'{col}:', checar_serie_possui_str_vazia(df_mensagens[col]))"
   ]
  },
  {
   "cell_type": "markdown",
   "id": "3e907b99",
   "metadata": {},
   "source": [
    "### 1.3 - Converter tipos de dados\n",
    "\n",
    "#### 1.3.1 - Datas e horários em `datetime`\n",
    "\n",
    "Converter datas e horários para o tipo `datetime`."
   ]
  },
  {
   "cell_type": "code",
   "execution_count": 5,
   "id": "32d51888",
   "metadata": {},
   "outputs": [
    {
     "data": {
      "text/html": [
       "<div>\n",
       "<style scoped>\n",
       "    .dataframe tbody tr th:only-of-type {\n",
       "        vertical-align: middle;\n",
       "    }\n",
       "\n",
       "    .dataframe tbody tr th {\n",
       "        vertical-align: top;\n",
       "    }\n",
       "\n",
       "    .dataframe thead th {\n",
       "        text-align: right;\n",
       "    }\n",
       "</style>\n",
       "<table border=\"1\" class=\"dataframe\">\n",
       "  <thead>\n",
       "    <tr style=\"text-align: right;\">\n",
       "      <th></th>\n",
       "      <th>data_horario</th>\n",
       "    </tr>\n",
       "  </thead>\n",
       "  <tbody>\n",
       "    <tr>\n",
       "      <th>0</th>\n",
       "      <td>2021-05-20 21:23:00</td>\n",
       "    </tr>\n",
       "    <tr>\n",
       "      <th>1</th>\n",
       "      <td>2021-05-20 21:23:00</td>\n",
       "    </tr>\n",
       "    <tr>\n",
       "      <th>2</th>\n",
       "      <td>2021-05-20 21:24:00</td>\n",
       "    </tr>\n",
       "    <tr>\n",
       "      <th>3</th>\n",
       "      <td>2021-05-20 21:24:00</td>\n",
       "    </tr>\n",
       "    <tr>\n",
       "      <th>4</th>\n",
       "      <td>2021-05-20 21:24:00</td>\n",
       "    </tr>\n",
       "  </tbody>\n",
       "</table>\n",
       "</div>"
      ],
      "text/plain": [
       "         data_horario\n",
       "0 2021-05-20 21:23:00\n",
       "1 2021-05-20 21:23:00\n",
       "2 2021-05-20 21:24:00\n",
       "3 2021-05-20 21:24:00\n",
       "4 2021-05-20 21:24:00"
      ]
     },
     "execution_count": 5,
     "metadata": {},
     "output_type": "execute_result"
    }
   ],
   "source": [
    "from datetime import datetime\n",
    "\n",
    "def obter_datahorario_linha(linha: pd.Series) -> datetime:\n",
    "    return datetime.fromisoformat(' '.join(linha.values))\n",
    "\n",
    "def obter_serie_datahorario(tabela: pd.DataFrame) -> pd.Series:\n",
    "    return tabela.apply(obter_datahorario_linha, axis=1)\n",
    "\n",
    "colunas_datahora_mensagens = ['data', 'horario']\n",
    "\n",
    "df_mensagens['data_horario'] = obter_serie_datahorario(df_mensagens[colunas_datahora_mensagens])\n",
    "df_mensagens.drop(colunas_datahora_mensagens, axis=1, inplace=True)\n",
    "\n",
    "for col in colunas_datahora_mensagens:\n",
    "    colunas_texto.remove(col)\n",
    "\n",
    "for col in ['data', 'horario']:\n",
    "    colunas_datahora_mensagens.remove(col)\n",
    "\n",
    "colunas_datahora_mensagens.append('data_horario')\n",
    "\n",
    "df_mensagens[colunas_datahora_mensagens].head()"
   ]
  },
  {
   "cell_type": "markdown",
   "id": "a5609183",
   "metadata": {},
   "source": [
    "#### 1.3.2 - Intenções e entidades em `List[str]`\n",
    "\n",
    "Converter intenções e entidades em listas."
   ]
  },
  {
   "cell_type": "code",
   "execution_count": 6,
   "id": "8a78155b",
   "metadata": {},
   "outputs": [
    {
     "data": {
      "text/html": [
       "<div>\n",
       "<style scoped>\n",
       "    .dataframe tbody tr th:only-of-type {\n",
       "        vertical-align: middle;\n",
       "    }\n",
       "\n",
       "    .dataframe tbody tr th {\n",
       "        vertical-align: top;\n",
       "    }\n",
       "\n",
       "    .dataframe thead th {\n",
       "        text-align: right;\n",
       "    }\n",
       "</style>\n",
       "<table border=\"1\" class=\"dataframe\">\n",
       "  <thead>\n",
       "    <tr style=\"text-align: right;\">\n",
       "      <th></th>\n",
       "      <th>mensagem</th>\n",
       "      <th>intencoes</th>\n",
       "      <th>entidades</th>\n",
       "      <th>data_horario</th>\n",
       "    </tr>\n",
       "  </thead>\n",
       "  <tbody>\n",
       "    <tr>\n",
       "      <th>0</th>\n",
       "      <td>dinheiro</td>\n",
       "      <td></td>\n",
       "      <td></td>\n",
       "      <td>2021-05-20 21:23:00</td>\n",
       "    </tr>\n",
       "    <tr>\n",
       "      <th>1</th>\n",
       "      <td>carro</td>\n",
       "      <td>#recomendar-modelo</td>\n",
       "      <td></td>\n",
       "      <td>2021-05-20 21:23:00</td>\n",
       "    </tr>\n",
       "    <tr>\n",
       "      <th>2</th>\n",
       "      <td>fusion</td>\n",
       "      <td></td>\n",
       "      <td>@modelo-carro:Ford Fusion Hybrid 2021</td>\n",
       "      <td>2021-05-20 21:24:00</td>\n",
       "    </tr>\n",
       "    <tr>\n",
       "      <th>3</th>\n",
       "      <td>ford</td>\n",
       "      <td></td>\n",
       "      <td></td>\n",
       "      <td>2021-05-20 21:24:00</td>\n",
       "    </tr>\n",
       "    <tr>\n",
       "      <th>4</th>\n",
       "      <td>aff</td>\n",
       "      <td></td>\n",
       "      <td></td>\n",
       "      <td>2021-05-20 21:24:00</td>\n",
       "    </tr>\n",
       "  </tbody>\n",
       "</table>\n",
       "</div>"
      ],
      "text/plain": [
       "   mensagem           intencoes                              entidades  \\\n",
       "0  dinheiro                                                              \n",
       "1     carro  #recomendar-modelo                                          \n",
       "2    fusion                      @modelo-carro:Ford Fusion Hybrid 2021   \n",
       "3      ford                                                              \n",
       "4       aff                                                              \n",
       "\n",
       "         data_horario  \n",
       "0 2021-05-20 21:23:00  \n",
       "1 2021-05-20 21:23:00  \n",
       "2 2021-05-20 21:24:00  \n",
       "3 2021-05-20 21:24:00  \n",
       "4 2021-05-20 21:24:00  "
      ]
     },
     "execution_count": 6,
     "metadata": {},
     "output_type": "execute_result"
    }
   ],
   "source": [
    "df_mensagens.fillna('', inplace=True)\n",
    "\n",
    "df_mensagens.head()"
   ]
  },
  {
   "cell_type": "code",
   "execution_count": 7,
   "id": "8d206a8f",
   "metadata": {},
   "outputs": [
    {
     "data": {
      "text/html": [
       "<div>\n",
       "<style scoped>\n",
       "    .dataframe tbody tr th:only-of-type {\n",
       "        vertical-align: middle;\n",
       "    }\n",
       "\n",
       "    .dataframe tbody tr th {\n",
       "        vertical-align: top;\n",
       "    }\n",
       "\n",
       "    .dataframe thead th {\n",
       "        text-align: right;\n",
       "    }\n",
       "</style>\n",
       "<table border=\"1\" class=\"dataframe\">\n",
       "  <thead>\n",
       "    <tr style=\"text-align: right;\">\n",
       "      <th></th>\n",
       "      <th>intencoes</th>\n",
       "      <th>entidades</th>\n",
       "    </tr>\n",
       "  </thead>\n",
       "  <tbody>\n",
       "    <tr>\n",
       "      <th>0</th>\n",
       "      <td>[]</td>\n",
       "      <td>[]</td>\n",
       "    </tr>\n",
       "    <tr>\n",
       "      <th>1</th>\n",
       "      <td>[#recomendar-modelo]</td>\n",
       "      <td>[]</td>\n",
       "    </tr>\n",
       "    <tr>\n",
       "      <th>2</th>\n",
       "      <td>[]</td>\n",
       "      <td>[@modelo-carro:Ford Fusion Hybrid 2021]</td>\n",
       "    </tr>\n",
       "    <tr>\n",
       "      <th>3</th>\n",
       "      <td>[]</td>\n",
       "      <td>[]</td>\n",
       "    </tr>\n",
       "    <tr>\n",
       "      <th>4</th>\n",
       "      <td>[]</td>\n",
       "      <td>[]</td>\n",
       "    </tr>\n",
       "  </tbody>\n",
       "</table>\n",
       "</div>"
      ],
      "text/plain": [
       "              intencoes                                entidades\n",
       "0                    []                                       []\n",
       "1  [#recomendar-modelo]                                       []\n",
       "2                    []  [@modelo-carro:Ford Fusion Hybrid 2021]\n",
       "3                    []                                       []\n",
       "4                    []                                       []"
      ]
     },
     "execution_count": 7,
     "metadata": {},
     "output_type": "execute_result"
    }
   ],
   "source": [
    "def obter_serie_lista_textos(serie: pd.Series) -> pd.Series:\n",
    "    return serie.str.split(',')\n",
    "\n",
    "colunas_listas = ['intencoes', 'entidades']\n",
    "\n",
    "for col in colunas_listas:\n",
    "    df_mensagens[col] = obter_serie_lista_textos(df_mensagens[col])\n",
    "\n",
    "df_mensagens[colunas_listas].head()"
   ]
  },
  {
   "cell_type": "markdown",
   "id": "1096458b",
   "metadata": {},
   "source": [
    "Quais são os tamanhos mínimo e máximo dessas listas?"
   ]
  },
  {
   "cell_type": "code",
   "execution_count": 8,
   "id": "6733d216",
   "metadata": {},
   "outputs": [
    {
     "name": "stdout",
     "output_type": "stream",
     "text": [
      "intencoes: (1, 1)\n",
      "entidades: (1, 3)\n"
     ]
    }
   ],
   "source": [
    "from typing import Tuple\n",
    "\n",
    "def obter_serie_tamanho_lista(serie: pd.Series) -> pd.Series:\n",
    "    return serie.apply(len)\n",
    "\n",
    "def obter_minmax_serie_lista(serie: pd.Series) -> Tuple[int, int]:\n",
    "    tamanhos = obter_serie_tamanho_lista(serie)\n",
    "    return (tamanhos.min(), tamanhos.max())\n",
    "\n",
    "for col in colunas_listas:\n",
    "    print(f'{col}:', obter_minmax_serie_lista(df_mensagens[col]))"
   ]
  },
  {
   "cell_type": "markdown",
   "id": "eba8cbc7",
   "metadata": {},
   "source": [
    "Limpar listas, removendo elementos vazios."
   ]
  },
  {
   "cell_type": "code",
   "execution_count": 9,
   "id": "e1bec064",
   "metadata": {},
   "outputs": [
    {
     "name": "stdout",
     "output_type": "stream",
     "text": [
      "intencoes: (0, 1)\n",
      "entidades: (0, 3)\n"
     ]
    }
   ],
   "source": [
    "def filtrar_apenas_elementos_nao_vazios(x):\n",
    "    return [e for e in x if bool(e)]\n",
    "\n",
    "def remover_elementos_vazios_listas_serie(serie: pd.Series) -> pd.Series:\n",
    "    return serie.apply(filtrar_apenas_elementos_nao_vazios)\n",
    "\n",
    "for col in colunas_listas:\n",
    "    df_mensagens[col] = remover_elementos_vazios_listas_serie(df_mensagens[col])\n",
    "    print(f'{col}:', obter_minmax_serie_lista(df_mensagens[col]))"
   ]
  },
  {
   "cell_type": "markdown",
   "id": "4dd4f144",
   "metadata": {},
   "source": [
    "#### 1.3.3 - Entidades em `List[Tuple[str, str]]`\n",
    "\n",
    "Quebrar as entidades em duplas entidade–valor."
   ]
  },
  {
   "cell_type": "code",
   "execution_count": 10,
   "id": "8b0e27a7",
   "metadata": {},
   "outputs": [
    {
     "data": {
      "text/plain": [
       "0                                            []\n",
       "1                                            []\n",
       "2    [(@modelo-carro, Ford Fusion Hybrid 2021)]\n",
       "3                                            []\n",
       "4                                            []\n",
       "Name: entidades, dtype: object"
      ]
     },
     "execution_count": 10,
     "metadata": {},
     "output_type": "execute_result"
    }
   ],
   "source": [
    "from typing import Iterable, List\n",
    "\n",
    "def obter_tupla_entidade_valor_de_termo(termo: str) -> Tuple[str, str]:\n",
    "    # `maxsplit == 1`, porque horários h, min e s são separados por ':'.\n",
    "    return tuple(filtrar_apenas_elementos_nao_vazios(termo.split(':', maxsplit=1)))\n",
    "\n",
    "def obter_lista_tuplas_entidade_valor(termos: Iterable[str]) -> List[Tuple[str, str]]:\n",
    "    return [obter_tupla_entidade_valor_de_termo(termo) for termo in termos]\n",
    "\n",
    "def obter_lista_tuplas_entidade_valor_nao_vazias(termos: Iterable[str]) -> List[Tuple[str, str]]:\n",
    "    lista_tuplas = obter_lista_tuplas_entidade_valor(termos)\n",
    "    return filtrar_apenas_elementos_nao_vazios(lista_tuplas)\n",
    "\n",
    "def obter_serie_lista_tuplas_entidade_valor_nao_vazias(serie: pd.Series) -> pd.Series:\n",
    "    return serie.apply(obter_lista_tuplas_entidade_valor_nao_vazias)\n",
    "\n",
    "df_mensagens['entidades'] = obter_serie_lista_tuplas_entidade_valor_nao_vazias(df_mensagens['entidades'])\n",
    "\n",
    "df_mensagens['entidades'].head()"
   ]
  },
  {
   "cell_type": "markdown",
   "id": "7525d697",
   "metadata": {},
   "source": [
    "Isso resultou em listas vazias ou apenas com tuplas de 2 elementos?"
   ]
  },
  {
   "cell_type": "code",
   "execution_count": 11,
   "id": "09a90914",
   "metadata": {},
   "outputs": [
    {
     "data": {
      "text/plain": [
       "True"
      ]
     },
     "execution_count": 11,
     "metadata": {},
     "output_type": "execute_result"
    }
   ],
   "source": [
    "import numpy as np\n",
    "from typing import Any\n",
    "\n",
    "def obter_tamanhos_tuplas(tuplas: Iterable[Tuple[Any, ...]]) -> List[int]:\n",
    "    return [len(tp) for tp in tuplas]\n",
    "\n",
    "def checar_tamanhos_tuplas_em_lista_igual_a(tuplas: Iterable[Tuple[Any, ...]], tamanho: int) -> bool:\n",
    "    return (np.array(obter_tamanhos_tuplas(tuplas)) == tamanho).all()\n",
    "\n",
    "filtro_listas_entidades_vazias = obter_serie_tamanho_lista(df_mensagens['entidades']) == 0\n",
    "filtro_listas_entidades_tuplas_2_elementos = df_mensagens['entidades'].apply(lambda x: checar_tamanhos_tuplas_em_lista_igual_a(x, 2))\n",
    "filtro_listas_entidades_validas = filtro_listas_entidades_vazias | filtro_listas_entidades_tuplas_2_elementos\n",
    "\n",
    "filtro_listas_entidades_validas.all()"
   ]
  },
  {
   "cell_type": "markdown",
   "id": "d2f2e3ca",
   "metadata": {},
   "source": [
    "## 2 - Indicadores\n",
    "\n",
    "Extrair os dados dos indicadores e apresentá-los em gráficos.\n",
    "\n",
    "### 2.1 - Mensagens por dia\n",
    "\n",
    "Quantas mensagens foram enviadas pelos clientes dentro do período analisado?\n",
    "\n",
    "#### 2.1.1 - Período analisado\n",
    "\n",
    "Obter a data mais antiga e a mais recente dentre as mensagens."
   ]
  },
  {
   "cell_type": "code",
   "execution_count": 12,
   "id": "cb30b3e5",
   "metadata": {},
   "outputs": [
    {
     "name": "stdout",
     "output_type": "stream",
     "text": [
      "Mais antiga.: 2021-05-20\n",
      "Mais recente: 2021-05-23\n"
     ]
    }
   ],
   "source": [
    "data_mais_antiga, data_mais_recente = (\n",
    "    df_mensagens['data_horario'].min().date(),\n",
    "    df_mensagens['data_horario'].max().date()\n",
    ")\n",
    "\n",
    "print('Mais antiga.:', data_mais_antiga)\n",
    "print('Mais recente:', data_mais_recente)"
   ]
  },
  {
   "cell_type": "markdown",
   "id": "8acc5e84",
   "metadata": {},
   "source": [
    "#### 2.1.2 - Contagem\n",
    "\n",
    "Contar o número de mensagens por dia."
   ]
  },
  {
   "cell_type": "code",
   "execution_count": 13,
   "id": "ff2cd447",
   "metadata": {},
   "outputs": [
    {
     "name": "stdout",
     "output_type": "stream",
     "text": [
      "Intervalo de 4 dias\n"
     ]
    }
   ],
   "source": [
    "from datetime import timedelta\n",
    "\n",
    "numero_dias_intervalo_datas = (data_mais_recente - data_mais_antiga).days + 1\n",
    "intervalo_datas = [data_mais_antiga + timedelta(days=d) for d in range(numero_dias_intervalo_datas)]\n",
    "intervalo_dias_seguintes = [data + timedelta(days=1) for data in intervalo_datas]\n",
    "\n",
    "print(f'Intervalo de {numero_dias_intervalo_datas} dias')"
   ]
  },
  {
   "cell_type": "code",
   "execution_count": 14,
   "id": "70d12666",
   "metadata": {},
   "outputs": [],
   "source": [
    "serie_datas_mensagens = df_mensagens['data_horario'].apply(datetime.date)\n",
    "\n",
    "mensagens_por_dia = {\n",
    "    dia: ((serie_datas_mensagens >= dia) & (serie_datas_mensagens < dia_seguinte)).sum()\n",
    "    for (dia, dia_seguinte) in zip(intervalo_datas, intervalo_dias_seguintes)\n",
    "}"
   ]
  },
  {
   "cell_type": "markdown",
   "id": "ea335717",
   "metadata": {},
   "source": [
    "#### 2.1.3 - Gráfico\n",
    "\n",
    "Apresentar o gráfico de mensagens por dia, ao longo do tempo."
   ]
  },
  {
   "cell_type": "code",
   "execution_count": 15,
   "id": "1b7dbf9c",
   "metadata": {},
   "outputs": [
    {
     "data": {
      "image/png": "[encoded data removed]",
      "text/plain": [
       "<Figure size 432x288 with 1 Axes>"
      ]
     },
     "metadata": {
      "needs_background": "light"
     },
     "output_type": "display_data"
    }
   ],
   "source": [
    "%matplotlib inline\n",
    "\n",
    "import matplotlib.pyplot as plt\n",
    "\n",
    "x_mensagens_por_dia = [f'{data:%d/%m/%y}' for data in mensagens_por_dia.keys()]\n",
    "y_mensagens_por_dia = mensagens_por_dia.values()\n",
    "\n",
    "plt.bar(x_mensagens_por_dia, y_mensagens_por_dia, color='green')\n",
    "plt.title('Mensagens por Dia (2021)')\n",
    "plt.xlabel('Data')\n",
    "plt.ylabel('# Mensagens')\n",
    "\n",
    "for (x, y) in zip(x_mensagens_por_dia, y_mensagens_por_dia):\n",
    "    plt.annotate(y, (x, y), color='blue')\n",
    "\n",
    "plt.show()"
   ]
  },
  {
   "cell_type": "markdown",
   "id": "3f03839f",
   "metadata": {},
   "source": [
    "### 2.2 - Intenções mais declaradas\n",
    "\n",
    "Quais intenções são as mais declaradas pelos clientes que conversam com o _chatbot_?\n",
    "\n",
    "#### 2.2.1 - Contagem\n",
    "\n",
    "Conta-se o número de ocorrências de cada intenção declarada em conversas dentro do período."
   ]
  },
  {
   "cell_type": "code",
   "execution_count": 16,
   "id": "d2bab024",
   "metadata": {},
   "outputs": [],
   "source": [
    "from collections import Counter\n",
    "\n",
    "contagem_intencoes = Counter(intencao for lista in df_mensagens['intencoes'] for intencao in lista)"
   ]
  },
  {
   "cell_type": "markdown",
   "id": "891e8845",
   "metadata": {},
   "source": [
    "#### 2.2.2 - Gráfico\n",
    "\n",
    "Apresentar um comparativo das intenções num gráfico de barras."
   ]
  },
  {
   "cell_type": "code",
   "execution_count": 17,
   "id": "7e9628a8",
   "metadata": {},
   "outputs": [],
   "source": [
    "contagem_intencoes = dict(sorted(contagem_intencoes.items(), key=lambda x: x[1]))\n",
    "\n",
    "# #confirmacao e #declinacao são intenções gerais.\n",
    "# Vamos desconsiderá-las nesta análise.\n",
    "for k in ['#confirmacao', '#declinacao']:\n",
    "    contagem_intencoes.pop(k)"
   ]
  },
  {
   "cell_type": "code",
   "execution_count": 18,
   "id": "745228d9",
   "metadata": {},
   "outputs": [
    {
     "data": {
      "image/png": "[encoded data removed]",
      "text/plain": [
       "<Figure size 432x288 with 1 Axes>"
      ]
     },
     "metadata": {
      "needs_background": "light"
     },
     "output_type": "display_data"
    }
   ],
   "source": [
    "plt.barh(\n",
    "    list(contagem_intencoes.keys()),\n",
    "    list(contagem_intencoes.values()),\n",
    "    color='green'\n",
    ")\n",
    "plt.title('Intenções Mais Declaradas')\n",
    "plt.xlabel('# Declarações')\n",
    "plt.ylabel('Intenção')\n",
    "\n",
    "for (k, v) in contagem_intencoes.items():\n",
    "    plt.annotate(v, (v, k), color='blue')\n",
    "\n",
    "plt.show()"
   ]
  },
  {
   "cell_type": "markdown",
   "id": "e8753048",
   "metadata": {},
   "source": [
    "Observa-se que as cinco intenções mais declaradas pelos clientes são, da mais para a menos declarada:\n",
    "\n",
    "1. `#recomendar-modelo`: 22;\n",
    "2. `#avaliar-por-finalidade`: 11;\n",
    "3. `#avaliar-por-categoria`: 7;\n",
    "4. `#agendar-test-drive`: 5;\n",
    "5. `#capacidade-passageiros-casal`: 4.\n",
    "\n",
    "É estranho que `#capacidade-passageiros-casal` esteja entre as intenções mais declaradas, ainda mais considerando que essa é complementar a `#avaliar-por-capacidade-passageiros`. Por outro lado, observa-se também que `avaliar-por-capacidade-passageiros` foi declarada tantas vezes quanto `#capacidade-passageiros-casal`.\n",
    "\n",
    "Vamos ver como essas cinco se comparam com o todo, ainda sem considerar `#confirmacao` e `#declinacao`."
   ]
  },
  {
   "cell_type": "code",
   "execution_count": 19,
   "id": "90065f08",
   "metadata": {},
   "outputs": [],
   "source": [
    "contagem_intencoes_com_outros = dict(sorted(list(contagem_intencoes.items())[-5:], key=lambda x: -x[1]))\n",
    "contagem_intencoes_com_outros['Outras'] = sum(list(contagem_intencoes.values())[:-5])\n",
    "\n",
    "contagem_total_intencoes = sum(contagem_intencoes_com_outros.values())\n",
    "contagem_intencoes_com_outros = {k: v/contagem_total_intencoes for (k,v) in contagem_intencoes_com_outros.items()}"
   ]
  },
  {
   "cell_type": "code",
   "execution_count": 20,
   "id": "c3730eed",
   "metadata": {},
   "outputs": [
    {
     "data": {
      "image/png": "[encoded data removed]",
      "text/plain": [
       "<Figure size 432x288 with 1 Axes>"
      ]
     },
     "metadata": {},
     "output_type": "display_data"
    }
   ],
   "source": [
    "plt.pie(\n",
    "    contagem_intencoes_com_outros.values(),\n",
    "    labels=[f'{k} ({v:.1%})' for (k,v) in contagem_intencoes_com_outros.items()]\n",
    ")\n",
    "plt.title('5 Intenções mais declaradas')\n",
    "plt.show()"
   ]
  }
 ],
 "metadata": {
  "kernelspec": {
   "display_name": "Python 3",
   "language": "python",
   "name": "python3"
  },
  "language_info": {
   "codemirror_mode": {
    "name": "ipython",
    "version": 3
   },
   "file_extension": ".py",
   "mimetype": "text/x-python",
   "name": "python",
   "nbconvert_exporter": "python",
   "pygments_lexer": "ipython3",
   "version": "3.7.5"
  }
 },
 "nbformat": 4,
 "nbformat_minor": 5
}
