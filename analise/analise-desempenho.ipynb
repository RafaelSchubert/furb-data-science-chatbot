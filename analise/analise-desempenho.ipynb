{
 "cells": [
  {
   "cell_type": "markdown",
   "id": "34a04a8a",
   "metadata": {},
   "source": [
    "# Assistente de Concessionária — Indicadores & Métricas\n",
    "\n",
    "## 1 - Preparar o conjunto de dados\n",
    "\n",
    "### 1.1 - Carregar conjunto de dados"
   ]
  },
  {
   "cell_type": "code",
   "execution_count": 1,
   "id": "b1c633c9",
   "metadata": {},
   "outputs": [],
   "source": [
    "import pandas as pd"
   ]
  },
  {
   "cell_type": "code",
   "execution_count": 2,
   "id": "ccbbaf10",
   "metadata": {},
   "outputs": [],
   "source": [
    "df_mensagens = pd.read_csv(\n",
    "    'mensagens.csv',\n",
    "    sep=';',\n",
    "    index_col=False\n",
    ")"
   ]
  },
  {
   "cell_type": "code",
   "execution_count": 3,
   "id": "9d1dbd7a",
   "metadata": {},
   "outputs": [
    {
     "data": {
      "text/html": [
       "<div>\n",
       "<style scoped>\n",
       "    .dataframe tbody tr th:only-of-type {\n",
       "        vertical-align: middle;\n",
       "    }\n",
       "\n",
       "    .dataframe tbody tr th {\n",
       "        vertical-align: top;\n",
       "    }\n",
       "\n",
       "    .dataframe thead th {\n",
       "        text-align: right;\n",
       "    }\n",
       "</style>\n",
       "<table border=\"1\" class=\"dataframe\">\n",
       "  <thead>\n",
       "    <tr style=\"text-align: right;\">\n",
       "      <th></th>\n",
       "      <th>mensagem</th>\n",
       "      <th>data</th>\n",
       "      <th>horario</th>\n",
       "      <th>intencoes</th>\n",
       "      <th>entidades</th>\n",
       "    </tr>\n",
       "  </thead>\n",
       "  <tbody>\n",
       "    <tr>\n",
       "      <th>0</th>\n",
       "      <td>dinheiro</td>\n",
       "      <td>2021-05-20</td>\n",
       "      <td>21:23</td>\n",
       "      <td>NaN</td>\n",
       "      <td>NaN</td>\n",
       "    </tr>\n",
       "    <tr>\n",
       "      <th>1</th>\n",
       "      <td>carro</td>\n",
       "      <td>2021-05-20</td>\n",
       "      <td>21:23</td>\n",
       "      <td>#recomendar-modelo</td>\n",
       "      <td>NaN</td>\n",
       "    </tr>\n",
       "    <tr>\n",
       "      <th>2</th>\n",
       "      <td>fusion</td>\n",
       "      <td>2021-05-20</td>\n",
       "      <td>21:24</td>\n",
       "      <td>NaN</td>\n",
       "      <td>@modelo-carro:Ford Fusion Hybrid 2021</td>\n",
       "    </tr>\n",
       "    <tr>\n",
       "      <th>3</th>\n",
       "      <td>ford</td>\n",
       "      <td>2021-05-20</td>\n",
       "      <td>21:24</td>\n",
       "      <td>NaN</td>\n",
       "      <td>NaN</td>\n",
       "    </tr>\n",
       "    <tr>\n",
       "      <th>4</th>\n",
       "      <td>aff</td>\n",
       "      <td>2021-05-20</td>\n",
       "      <td>21:24</td>\n",
       "      <td>NaN</td>\n",
       "      <td>NaN</td>\n",
       "    </tr>\n",
       "  </tbody>\n",
       "</table>\n",
       "</div>"
      ],
      "text/plain": [
       "   mensagem        data horario           intencoes  \\\n",
       "0  dinheiro  2021-05-20   21:23                 NaN   \n",
       "1     carro  2021-05-20   21:23  #recomendar-modelo   \n",
       "2    fusion  2021-05-20   21:24                 NaN   \n",
       "3      ford  2021-05-20   21:24                 NaN   \n",
       "4       aff  2021-05-20   21:24                 NaN   \n",
       "\n",
       "                               entidades  \n",
       "0                                    NaN  \n",
       "1                                    NaN  \n",
       "2  @modelo-carro:Ford Fusion Hybrid 2021  \n",
       "3                                    NaN  \n",
       "4                                    NaN  "
      ]
     },
     "execution_count": 3,
     "metadata": {},
     "output_type": "execute_result"
    }
   ],
   "source": [
    "df_mensagens.head()"
   ]
  },
  {
   "cell_type": "markdown",
   "id": "48a610d7",
   "metadata": {},
   "source": [
    "### 1.2 - Checar integridade dos campos de texto\n",
    "\n",
    "Checar se algum dos campos de texto possui um ou mais elementos vazios."
   ]
  },
  {
   "cell_type": "code",
   "execution_count": 4,
   "id": "e755f786",
   "metadata": {},
   "outputs": [],
   "source": [
    "def serie_possui_str_vazia(serie: pd.Series):\n",
    "    return serie.apply(lambda x: not x).any()"
   ]
  },
  {
   "cell_type": "code",
   "execution_count": 5,
   "id": "a50b6f02",
   "metadata": {},
   "outputs": [
    {
     "name": "stdout",
     "output_type": "stream",
     "text": [
      "mensagem: False\n",
      "data: False\n",
      "horario: False\n"
     ]
    }
   ],
   "source": [
    "for col in ['mensagem', 'data', 'horario']:\n",
    "    print(f'{col}:', serie_possui_str_vazia(df_mensagens['mensagem']))"
   ]
  },
  {
   "cell_type": "markdown",
   "id": "3e907b99",
   "metadata": {},
   "source": [
    "### 1.3 - Converter tipos de dados\n",
    "\n",
    "Converter datas e horários para o tipo `datetime`."
   ]
  },
  {
   "cell_type": "code",
   "execution_count": 6,
   "id": "a3855120",
   "metadata": {},
   "outputs": [],
   "source": [
    "from datetime import datetime"
   ]
  },
  {
   "cell_type": "code",
   "execution_count": 7,
   "id": "32d51888",
   "metadata": {},
   "outputs": [
    {
     "data": {
      "text/plain": [
       "0   2021-05-20 21:23:00\n",
       "1   2021-05-20 21:23:00\n",
       "2   2021-05-20 21:24:00\n",
       "3   2021-05-20 21:24:00\n",
       "4   2021-05-20 21:24:00\n",
       "Name: data_horario, dtype: datetime64[ns]"
      ]
     },
     "execution_count": 7,
     "metadata": {},
     "output_type": "execute_result"
    }
   ],
   "source": [
    "df_mensagens['data_horario'] = df_mensagens[['data', 'horario']].apply(\n",
    "    lambda row: datetime.fromisoformat(' '.join(row.values)),\n",
    "    axis=1\n",
    ")\n",
    "df_mensagens.drop(['data', 'horario'], axis=1, inplace=True)\n",
    "\n",
    "df_mensagens['data_horario'].head()"
   ]
  },
  {
   "cell_type": "markdown",
   "id": "a5609183",
   "metadata": {},
   "source": [
    "Converter intenções e entidades em listas."
   ]
  },
  {
   "cell_type": "code",
   "execution_count": 8,
   "id": "8a78155b",
   "metadata": {},
   "outputs": [
    {
     "data": {
      "text/html": [
       "<div>\n",
       "<style scoped>\n",
       "    .dataframe tbody tr th:only-of-type {\n",
       "        vertical-align: middle;\n",
       "    }\n",
       "\n",
       "    .dataframe tbody tr th {\n",
       "        vertical-align: top;\n",
       "    }\n",
       "\n",
       "    .dataframe thead th {\n",
       "        text-align: right;\n",
       "    }\n",
       "</style>\n",
       "<table border=\"1\" class=\"dataframe\">\n",
       "  <thead>\n",
       "    <tr style=\"text-align: right;\">\n",
       "      <th></th>\n",
       "      <th>mensagem</th>\n",
       "      <th>intencoes</th>\n",
       "      <th>entidades</th>\n",
       "      <th>data_horario</th>\n",
       "    </tr>\n",
       "  </thead>\n",
       "  <tbody>\n",
       "    <tr>\n",
       "      <th>0</th>\n",
       "      <td>dinheiro</td>\n",
       "      <td></td>\n",
       "      <td></td>\n",
       "      <td>2021-05-20 21:23:00</td>\n",
       "    </tr>\n",
       "    <tr>\n",
       "      <th>1</th>\n",
       "      <td>carro</td>\n",
       "      <td>#recomendar-modelo</td>\n",
       "      <td></td>\n",
       "      <td>2021-05-20 21:23:00</td>\n",
       "    </tr>\n",
       "    <tr>\n",
       "      <th>2</th>\n",
       "      <td>fusion</td>\n",
       "      <td></td>\n",
       "      <td>@modelo-carro:Ford Fusion Hybrid 2021</td>\n",
       "      <td>2021-05-20 21:24:00</td>\n",
       "    </tr>\n",
       "    <tr>\n",
       "      <th>3</th>\n",
       "      <td>ford</td>\n",
       "      <td></td>\n",
       "      <td></td>\n",
       "      <td>2021-05-20 21:24:00</td>\n",
       "    </tr>\n",
       "    <tr>\n",
       "      <th>4</th>\n",
       "      <td>aff</td>\n",
       "      <td></td>\n",
       "      <td></td>\n",
       "      <td>2021-05-20 21:24:00</td>\n",
       "    </tr>\n",
       "  </tbody>\n",
       "</table>\n",
       "</div>"
      ],
      "text/plain": [
       "   mensagem           intencoes                              entidades  \\\n",
       "0  dinheiro                                                              \n",
       "1     carro  #recomendar-modelo                                          \n",
       "2    fusion                      @modelo-carro:Ford Fusion Hybrid 2021   \n",
       "3      ford                                                              \n",
       "4       aff                                                              \n",
       "\n",
       "         data_horario  \n",
       "0 2021-05-20 21:23:00  \n",
       "1 2021-05-20 21:23:00  \n",
       "2 2021-05-20 21:24:00  \n",
       "3 2021-05-20 21:24:00  \n",
       "4 2021-05-20 21:24:00  "
      ]
     },
     "execution_count": 8,
     "metadata": {},
     "output_type": "execute_result"
    }
   ],
   "source": [
    "df_mensagens.fillna('', inplace=True)\n",
    "\n",
    "df_mensagens.head()"
   ]
  },
  {
   "cell_type": "code",
   "execution_count": 9,
   "id": "8d206a8f",
   "metadata": {},
   "outputs": [
    {
     "data": {
      "text/plain": [
       "0                      []\n",
       "1    [#recomendar-modelo]\n",
       "2                      []\n",
       "3                      []\n",
       "4                      []\n",
       "Name: intencoes, dtype: object"
      ]
     },
     "execution_count": 9,
     "metadata": {},
     "output_type": "execute_result"
    }
   ],
   "source": [
    "df_mensagens['intencoes'] = df_mensagens['intencoes'].str.split(',')\n",
    "\n",
    "df_mensagens['intencoes'].head()"
   ]
  },
  {
   "cell_type": "code",
   "execution_count": 10,
   "id": "53467c7c",
   "metadata": {},
   "outputs": [
    {
     "data": {
      "text/plain": [
       "0                                         []\n",
       "1                                         []\n",
       "2    [@modelo-carro:Ford Fusion Hybrid 2021]\n",
       "3                                         []\n",
       "4                                         []\n",
       "Name: entidades, dtype: object"
      ]
     },
     "execution_count": 10,
     "metadata": {},
     "output_type": "execute_result"
    }
   ],
   "source": [
    "df_mensagens['entidades'] = df_mensagens['entidades'].str.split(',')\n",
    "\n",
    "df_mensagens['entidades'].head()"
   ]
  },
  {
   "cell_type": "code",
   "execution_count": 11,
   "id": "b992e68d",
   "metadata": {},
   "outputs": [
    {
     "data": {
      "text/plain": [
       "1"
      ]
     },
     "execution_count": 11,
     "metadata": {},
     "output_type": "execute_result"
    }
   ],
   "source": [
    "df_mensagens['intencoes'].apply(len).max()"
   ]
  },
  {
   "cell_type": "code",
   "execution_count": 12,
   "id": "c3218959",
   "metadata": {},
   "outputs": [
    {
     "data": {
      "text/plain": [
       "2"
      ]
     },
     "execution_count": 12,
     "metadata": {},
     "output_type": "execute_result"
    }
   ],
   "source": [
    "df_mensagens['entidades'].apply(len).max()"
   ]
  },
  {
   "cell_type": "markdown",
   "id": "4dd4f144",
   "metadata": {},
   "source": [
    "Quebrar as entidades em duplas entidade–valor."
   ]
  },
  {
   "cell_type": "code",
   "execution_count": 14,
   "id": "8b0e27a7",
   "metadata": {},
   "outputs": [
    {
     "data": {
      "text/plain": [
       "0                                         [(,)]\n",
       "1                                         [(,)]\n",
       "2    [(@modelo-carro, Ford Fusion Hybrid 2021)]\n",
       "3                                         [(,)]\n",
       "4                                         [(,)]\n",
       "Name: entidades, dtype: object"
      ]
     },
     "execution_count": 14,
     "metadata": {},
     "output_type": "execute_result"
    }
   ],
   "source": [
    "df_mensagens['entidades'] = df_mensagens['entidades'].apply(\n",
    "    lambda l: [tuple(termos.split(':')) for termos in l]\n",
    ")\n",
    "\n",
    "df_mensagens['entidades'].head()"
   ]
  },
  {
   "cell_type": "code",
   "execution_count": 15,
   "id": "09a90914",
   "metadata": {},
   "outputs": [
    {
     "data": {
      "text/plain": [
       "False"
      ]
     },
     "execution_count": 15,
     "metadata": {},
     "output_type": "execute_result"
    }
   ],
   "source": [
    "df_mensagens['entidades'].apply(\n",
    "    lambda l: all((len(e) in [0,2]) for e in l)\n",
    ").all()"
   ]
  },
  {
   "cell_type": "code",
   "execution_count": 16,
   "id": "17dced2c",
   "metadata": {},
   "outputs": [
    {
     "data": {
      "text/html": [
       "<div>\n",
       "<style scoped>\n",
       "    .dataframe tbody tr th:only-of-type {\n",
       "        vertical-align: middle;\n",
       "    }\n",
       "\n",
       "    .dataframe tbody tr th {\n",
       "        vertical-align: top;\n",
       "    }\n",
       "\n",
       "    .dataframe thead th {\n",
       "        text-align: right;\n",
       "    }\n",
       "</style>\n",
       "<table border=\"1\" class=\"dataframe\">\n",
       "  <thead>\n",
       "    <tr style=\"text-align: right;\">\n",
       "      <th></th>\n",
       "      <th>mensagem</th>\n",
       "      <th>intencoes</th>\n",
       "      <th>entidades</th>\n",
       "      <th>data_horario</th>\n",
       "    </tr>\n",
       "  </thead>\n",
       "  <tbody>\n",
       "    <tr>\n",
       "      <th>0</th>\n",
       "      <td>dinheiro</td>\n",
       "      <td>[]</td>\n",
       "      <td>[(,)]</td>\n",
       "      <td>2021-05-20 21:23:00</td>\n",
       "    </tr>\n",
       "    <tr>\n",
       "      <th>1</th>\n",
       "      <td>carro</td>\n",
       "      <td>[#recomendar-modelo]</td>\n",
       "      <td>[(,)]</td>\n",
       "      <td>2021-05-20 21:23:00</td>\n",
       "    </tr>\n",
       "    <tr>\n",
       "      <th>3</th>\n",
       "      <td>ford</td>\n",
       "      <td>[]</td>\n",
       "      <td>[(,)]</td>\n",
       "      <td>2021-05-20 21:24:00</td>\n",
       "    </tr>\n",
       "    <tr>\n",
       "      <th>4</th>\n",
       "      <td>aff</td>\n",
       "      <td>[]</td>\n",
       "      <td>[(,)]</td>\n",
       "      <td>2021-05-20 21:24:00</td>\n",
       "    </tr>\n",
       "    <tr>\n",
       "      <th>8</th>\n",
       "      <td>Que categorias você tem?</td>\n",
       "      <td>[]</td>\n",
       "      <td>[(,)]</td>\n",
       "      <td>2021-05-22 17:21:00</td>\n",
       "    </tr>\n",
       "    <tr>\n",
       "      <th>9</th>\n",
       "      <td>Liste por categoria</td>\n",
       "      <td>[#avaliar-por-categoria]</td>\n",
       "      <td>[(,)]</td>\n",
       "      <td>2021-05-22 17:21:00</td>\n",
       "    </tr>\n",
       "    <tr>\n",
       "      <th>11</th>\n",
       "      <td>Liste por categoria.</td>\n",
       "      <td>[#avaliar-por-categoria]</td>\n",
       "      <td>[(,)]</td>\n",
       "      <td>2021-05-22 17:22:00</td>\n",
       "    </tr>\n",
       "    <tr>\n",
       "      <th>13</th>\n",
       "      <td>Que tal o mach-e?</td>\n",
       "      <td>[#avaliar-por-finalidade]</td>\n",
       "      <td>[(,)]</td>\n",
       "      <td>2021-05-22 17:22:00</td>\n",
       "    </tr>\n",
       "    <tr>\n",
       "      <th>15</th>\n",
       "      <td>Sim</td>\n",
       "      <td>[#confirmacao]</td>\n",
       "      <td>[(,)]</td>\n",
       "      <td>2021-05-22 17:23:00</td>\n",
       "    </tr>\n",
       "    <tr>\n",
       "      <th>16</th>\n",
       "      <td>Sim</td>\n",
       "      <td>[#confirmacao]</td>\n",
       "      <td>[(,)]</td>\n",
       "      <td>2021-05-22 17:23:00</td>\n",
       "    </tr>\n",
       "    <tr>\n",
       "      <th>17</th>\n",
       "      <td>Daqui a dois dias, às 14:00.</td>\n",
       "      <td>[]</td>\n",
       "      <td>[(@sys-date, 2021-05-24), (@sys-time, 14, 00, ...</td>\n",
       "      <td>2021-05-22 17:23:00</td>\n",
       "    </tr>\n",
       "    <tr>\n",
       "      <th>18</th>\n",
       "      <td>Sim.</td>\n",
       "      <td>[#confirmacao]</td>\n",
       "      <td>[(,)]</td>\n",
       "      <td>2021-05-22 17:23:00</td>\n",
       "    </tr>\n",
       "    <tr>\n",
       "      <th>21</th>\n",
       "      <td>Sim</td>\n",
       "      <td>[#confirmacao]</td>\n",
       "      <td>[(,)]</td>\n",
       "      <td>2021-05-22 17:24:00</td>\n",
       "    </tr>\n",
       "    <tr>\n",
       "      <th>23</th>\n",
       "      <td>Pode ser às 08:30.</td>\n",
       "      <td>[#confirmacao]</td>\n",
       "      <td>[(@sys-time, 08, 30, 00)]</td>\n",
       "      <td>2021-05-22 17:25:00</td>\n",
       "    </tr>\n",
       "    <tr>\n",
       "      <th>24</th>\n",
       "      <td>Sim</td>\n",
       "      <td>[#confirmacao]</td>\n",
       "      <td>[(,)]</td>\n",
       "      <td>2021-05-22 17:25:00</td>\n",
       "    </tr>\n",
       "    <tr>\n",
       "      <th>25</th>\n",
       "      <td>De carro.</td>\n",
       "      <td>[#recomendar-modelo]</td>\n",
       "      <td>[(,)]</td>\n",
       "      <td>2021-05-22 22:29:00</td>\n",
       "    </tr>\n",
       "    <tr>\n",
       "      <th>26</th>\n",
       "      <td>Liste as categorias.</td>\n",
       "      <td>[#avaliar-por-categoria]</td>\n",
       "      <td>[(,)]</td>\n",
       "      <td>2021-05-22 22:29:00</td>\n",
       "    </tr>\n",
       "    <tr>\n",
       "      <th>29</th>\n",
       "      <td>Não</td>\n",
       "      <td>[#declinacao]</td>\n",
       "      <td>[(,)]</td>\n",
       "      <td>2021-05-22 22:30:00</td>\n",
       "    </tr>\n",
       "    <tr>\n",
       "      <th>30</th>\n",
       "      <td>Não</td>\n",
       "      <td>[#declinacao]</td>\n",
       "      <td>[(,)]</td>\n",
       "      <td>2021-05-22 22:30:00</td>\n",
       "    </tr>\n",
       "    <tr>\n",
       "      <th>32</th>\n",
       "      <td>Quantos passageiros o carro leva.</td>\n",
       "      <td>[#avaliar-por-capacidade-passageiros]</td>\n",
       "      <td>[(,)]</td>\n",
       "      <td>2021-05-22 22:30:00</td>\n",
       "    </tr>\n",
       "    <tr>\n",
       "      <th>35</th>\n",
       "      <td>Sim</td>\n",
       "      <td>[#confirmacao]</td>\n",
       "      <td>[(,)]</td>\n",
       "      <td>2021-05-22 22:31:00</td>\n",
       "    </tr>\n",
       "    <tr>\n",
       "      <th>36</th>\n",
       "      <td>Sim</td>\n",
       "      <td>[#confirmacao]</td>\n",
       "      <td>[(,)]</td>\n",
       "      <td>2021-05-22 22:31:00</td>\n",
       "    </tr>\n",
       "    <tr>\n",
       "      <th>38</th>\n",
       "      <td>Por volta das 13:00</td>\n",
       "      <td>[#confirmacao]</td>\n",
       "      <td>[(@sys-time, 13, 00, 00)]</td>\n",
       "      <td>2021-05-22 22:32:00</td>\n",
       "    </tr>\n",
       "    <tr>\n",
       "      <th>39</th>\n",
       "      <td>Claro! Seria ótimo!</td>\n",
       "      <td>[#confirmacao]</td>\n",
       "      <td>[(,)]</td>\n",
       "      <td>2021-05-22 22:32:00</td>\n",
       "    </tr>\n",
       "    <tr>\n",
       "      <th>40</th>\n",
       "      <td>Não</td>\n",
       "      <td>[#declinacao]</td>\n",
       "      <td>[(,)]</td>\n",
       "      <td>2021-05-22 22:32:00</td>\n",
       "    </tr>\n",
       "    <tr>\n",
       "      <th>43</th>\n",
       "      <td>Sim</td>\n",
       "      <td>[#confirmacao]</td>\n",
       "      <td>[(,)]</td>\n",
       "      <td>2021-05-22 22:36:00</td>\n",
       "    </tr>\n",
       "    <tr>\n",
       "      <th>45</th>\n",
       "      <td>Pode ser às 15:00</td>\n",
       "      <td>[#confirmacao]</td>\n",
       "      <td>[(@sys-time, 15, 00, 00)]</td>\n",
       "      <td>2021-05-22 22:36:00</td>\n",
       "    </tr>\n",
       "    <tr>\n",
       "      <th>46</th>\n",
       "      <td>Ótimo! Pode ser.</td>\n",
       "      <td>[#confirmacao]</td>\n",
       "      <td>[(,)]</td>\n",
       "      <td>2021-05-22 22:36:00</td>\n",
       "    </tr>\n",
       "  </tbody>\n",
       "</table>\n",
       "</div>"
      ],
      "text/plain": [
       "                             mensagem                              intencoes  \\\n",
       "0                            dinheiro                                     []   \n",
       "1                               carro                   [#recomendar-modelo]   \n",
       "3                                ford                                     []   \n",
       "4                                 aff                                     []   \n",
       "8            Que categorias você tem?                                     []   \n",
       "9                 Liste por categoria               [#avaliar-por-categoria]   \n",
       "11               Liste por categoria.               [#avaliar-por-categoria]   \n",
       "13                  Que tal o mach-e?              [#avaliar-por-finalidade]   \n",
       "15                                Sim                         [#confirmacao]   \n",
       "16                                Sim                         [#confirmacao]   \n",
       "17       Daqui a dois dias, às 14:00.                                     []   \n",
       "18                               Sim.                         [#confirmacao]   \n",
       "21                                Sim                         [#confirmacao]   \n",
       "23                 Pode ser às 08:30.                         [#confirmacao]   \n",
       "24                                Sim                         [#confirmacao]   \n",
       "25                          De carro.                   [#recomendar-modelo]   \n",
       "26               Liste as categorias.               [#avaliar-por-categoria]   \n",
       "29                                Não                          [#declinacao]   \n",
       "30                                Não                          [#declinacao]   \n",
       "32  Quantos passageiros o carro leva.  [#avaliar-por-capacidade-passageiros]   \n",
       "35                                Sim                         [#confirmacao]   \n",
       "36                                Sim                         [#confirmacao]   \n",
       "38                Por volta das 13:00                         [#confirmacao]   \n",
       "39                Claro! Seria ótimo!                         [#confirmacao]   \n",
       "40                                Não                          [#declinacao]   \n",
       "43                                Sim                         [#confirmacao]   \n",
       "45                  Pode ser às 15:00                         [#confirmacao]   \n",
       "46                   Ótimo! Pode ser.                         [#confirmacao]   \n",
       "\n",
       "                                            entidades        data_horario  \n",
       "0                                               [(,)] 2021-05-20 21:23:00  \n",
       "1                                               [(,)] 2021-05-20 21:23:00  \n",
       "3                                               [(,)] 2021-05-20 21:24:00  \n",
       "4                                               [(,)] 2021-05-20 21:24:00  \n",
       "8                                               [(,)] 2021-05-22 17:21:00  \n",
       "9                                               [(,)] 2021-05-22 17:21:00  \n",
       "11                                              [(,)] 2021-05-22 17:22:00  \n",
       "13                                              [(,)] 2021-05-22 17:22:00  \n",
       "15                                              [(,)] 2021-05-22 17:23:00  \n",
       "16                                              [(,)] 2021-05-22 17:23:00  \n",
       "17  [(@sys-date, 2021-05-24), (@sys-time, 14, 00, ... 2021-05-22 17:23:00  \n",
       "18                                              [(,)] 2021-05-22 17:23:00  \n",
       "21                                              [(,)] 2021-05-22 17:24:00  \n",
       "23                          [(@sys-time, 08, 30, 00)] 2021-05-22 17:25:00  \n",
       "24                                              [(,)] 2021-05-22 17:25:00  \n",
       "25                                              [(,)] 2021-05-22 22:29:00  \n",
       "26                                              [(,)] 2021-05-22 22:29:00  \n",
       "29                                              [(,)] 2021-05-22 22:30:00  \n",
       "30                                              [(,)] 2021-05-22 22:30:00  \n",
       "32                                              [(,)] 2021-05-22 22:30:00  \n",
       "35                                              [(,)] 2021-05-22 22:31:00  \n",
       "36                                              [(,)] 2021-05-22 22:31:00  \n",
       "38                          [(@sys-time, 13, 00, 00)] 2021-05-22 22:32:00  \n",
       "39                                              [(,)] 2021-05-22 22:32:00  \n",
       "40                                              [(,)] 2021-05-22 22:32:00  \n",
       "43                                              [(,)] 2021-05-22 22:36:00  \n",
       "45                          [(@sys-time, 15, 00, 00)] 2021-05-22 22:36:00  \n",
       "46                                              [(,)] 2021-05-22 22:36:00  "
      ]
     },
     "execution_count": 16,
     "metadata": {},
     "output_type": "execute_result"
    }
   ],
   "source": [
    "df_mensagens[\n",
    "    df_mensagens['entidades'].apply(\n",
    "        lambda l: any(len(e) not in [0,2] for e in l)\n",
    "    )\n",
    "]"
   ]
  }
 ],
 "metadata": {
  "kernelspec": {
   "display_name": "Python 3",
   "language": "python",
   "name": "python3"
  },
  "language_info": {
   "codemirror_mode": {
    "name": "ipython",
    "version": 3
   },
   "file_extension": ".py",
   "mimetype": "text/x-python",
   "name": "python",
   "nbconvert_exporter": "python",
   "pygments_lexer": "ipython3",
   "version": "3.7.5"
  }
 },
 "nbformat": 4,
 "nbformat_minor": 5
}
